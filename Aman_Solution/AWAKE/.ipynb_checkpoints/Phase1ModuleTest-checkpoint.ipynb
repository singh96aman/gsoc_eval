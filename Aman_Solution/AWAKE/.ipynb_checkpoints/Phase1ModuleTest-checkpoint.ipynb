{
 "cells": [
  {
   "cell_type": "code",
   "execution_count": 6,
   "metadata": {
    "ExecuteTime": {
     "end_time": "2019-05-15T16:17:03.897208Z",
     "start_time": "2019-05-15T16:17:03.729420Z"
    }
   },
   "outputs": [
    {
     "ename": "FileNotFoundError",
     "evalue": "[WinError 3] The system cannot find the path specified: '/Users/amansinghthakur/Jupyter/AwakeExp/gsoc_eval/Aman_Solution/H5Files/'",
     "output_type": "error",
     "traceback": [
      "\u001b[1;31m---------------------------------------------------------------------------\u001b[0m",
      "\u001b[1;31mFileNotFoundError\u001b[0m                         Traceback (most recent call last)",
      "\u001b[1;32m<ipython-input-6-91a0593db6e8>\u001b[0m in \u001b[0;36m<module>\u001b[1;34m\u001b[0m\n\u001b[0;32m     47\u001b[0m \u001b[1;31m#create_central_CSV(dir_csv_filepath+csv_file_name, dir_csv_filepath+\"CSVPhase1-Central.csv\")\u001b[0m\u001b[1;33m\u001b[0m\u001b[1;33m\u001b[0m\u001b[1;33m\u001b[0m\u001b[0m\n\u001b[0;32m     48\u001b[0m \u001b[1;31m#test_init_csv_file()\u001b[0m\u001b[1;33m\u001b[0m\u001b[1;33m\u001b[0m\u001b[1;33m\u001b[0m\u001b[0m\n\u001b[1;32m---> 49\u001b[1;33m \u001b[0minit_thread_method\u001b[0m\u001b[1;33m(\u001b[0m\u001b[0mdir_h5_filepath\u001b[0m\u001b[1;33m,\u001b[0m \u001b[0mdir_csv_filepath\u001b[0m\u001b[1;33m,\u001b[0m \u001b[1;36m2\u001b[0m\u001b[1;33m)\u001b[0m\u001b[1;33m\u001b[0m\u001b[1;33m\u001b[0m\u001b[0m\n\u001b[0m",
      "\u001b[1;32m<ipython-input-6-d78c31fcad6a>\u001b[0m in \u001b[0;36minit_thread_method\u001b[1;34m(dir_h5_filepath, dir_csv_files, no_of_threads)\u001b[0m\n\u001b[0;32m     71\u001b[0m \u001b[1;33m\u001b[0m\u001b[0m\n\u001b[0;32m     72\u001b[0m \u001b[1;32mdef\u001b[0m \u001b[0minit_thread_method\u001b[0m\u001b[1;33m(\u001b[0m\u001b[0mdir_h5_filepath\u001b[0m\u001b[1;33m,\u001b[0m \u001b[0mdir_csv_files\u001b[0m\u001b[1;33m,\u001b[0m \u001b[0mno_of_threads\u001b[0m\u001b[1;33m)\u001b[0m\u001b[1;33m:\u001b[0m\u001b[1;33m\u001b[0m\u001b[1;33m\u001b[0m\u001b[0m\n\u001b[1;32m---> 73\u001b[1;33m     \u001b[0mHDF_thread_arr\u001b[0m\u001b[1;33m,\u001b[0m \u001b[0mmax_size\u001b[0m \u001b[1;33m=\u001b[0m \u001b[0mdivide_datasets_for_threads\u001b[0m\u001b[1;33m(\u001b[0m\u001b[0mdir_h5_filepath\u001b[0m\u001b[1;33m,\u001b[0m \u001b[0mno_of_threads\u001b[0m\u001b[1;33m)\u001b[0m\u001b[1;33m\u001b[0m\u001b[1;33m\u001b[0m\u001b[0m\n\u001b[0m\u001b[0;32m     74\u001b[0m     \u001b[0mthread_arr\u001b[0m \u001b[1;33m=\u001b[0m \u001b[1;33m[\u001b[0m\u001b[1;33m]\u001b[0m\u001b[1;33m\u001b[0m\u001b[1;33m\u001b[0m\u001b[0m\n\u001b[0;32m     75\u001b[0m     \u001b[1;32mwith\u001b[0m \u001b[0mprogressbar\u001b[0m\u001b[1;33m.\u001b[0m\u001b[0mProgressBar\u001b[0m\u001b[1;33m(\u001b[0m\u001b[0mmax_value\u001b[0m\u001b[1;33m=\u001b[0m\u001b[0mmax_size\u001b[0m\u001b[1;33m,\u001b[0m \u001b[0mredirect_stdout\u001b[0m\u001b[1;33m=\u001b[0m\u001b[1;32mTrue\u001b[0m\u001b[1;33m)\u001b[0m \u001b[1;32mas\u001b[0m \u001b[0mprogress\u001b[0m\u001b[1;33m:\u001b[0m\u001b[1;33m\u001b[0m\u001b[1;33m\u001b[0m\u001b[0m\n",
      "\u001b[1;32m<ipython-input-6-d78c31fcad6a>\u001b[0m in \u001b[0;36mdivide_datasets_for_threads\u001b[1;34m(dir_h5_filepath, no_of_threads)\u001b[0m\n\u001b[0;32m     94\u001b[0m \u001b[1;33m\u001b[0m\u001b[0m\n\u001b[0;32m     95\u001b[0m \u001b[1;32mdef\u001b[0m \u001b[0mdivide_datasets_for_threads\u001b[0m\u001b[1;33m(\u001b[0m\u001b[0mdir_h5_filepath\u001b[0m\u001b[1;33m,\u001b[0m \u001b[0mno_of_threads\u001b[0m\u001b[1;33m)\u001b[0m\u001b[1;33m:\u001b[0m\u001b[1;33m\u001b[0m\u001b[1;33m\u001b[0m\u001b[0m\n\u001b[1;32m---> 96\u001b[1;33m     \u001b[0mall_HDF_files\u001b[0m \u001b[1;33m=\u001b[0m \u001b[0mget_all_HDF_files\u001b[0m\u001b[1;33m(\u001b[0m\u001b[0mdir_h5_filepath\u001b[0m\u001b[1;33m)\u001b[0m\u001b[1;33m\u001b[0m\u001b[1;33m\u001b[0m\u001b[0m\n\u001b[0m\u001b[0;32m     97\u001b[0m     \u001b[0mmax_size\u001b[0m \u001b[1;33m=\u001b[0m \u001b[0mlen\u001b[0m\u001b[1;33m(\u001b[0m\u001b[0mlist\u001b[0m\u001b[1;33m(\u001b[0m\u001b[0mall_HDF_files\u001b[0m\u001b[1;33m)\u001b[0m\u001b[1;33m)\u001b[0m\u001b[1;33m\u001b[0m\u001b[1;33m\u001b[0m\u001b[0m\n\u001b[0;32m     98\u001b[0m     \u001b[0msegment_size\u001b[0m \u001b[1;33m=\u001b[0m \u001b[0mint\u001b[0m\u001b[1;33m(\u001b[0m\u001b[0mmax_size\u001b[0m\u001b[1;33m/\u001b[0m\u001b[0mno_of_threads\u001b[0m\u001b[1;33m)\u001b[0m\u001b[1;33m\u001b[0m\u001b[1;33m\u001b[0m\u001b[0m\n",
      "\u001b[1;32m<ipython-input-6-d78c31fcad6a>\u001b[0m in \u001b[0;36mget_all_HDF_files\u001b[1;34m(dir_h5_filepath)\u001b[0m\n\u001b[0;32m     37\u001b[0m \u001b[1;33m\u001b[0m\u001b[0m\n\u001b[0;32m     38\u001b[0m \u001b[1;32mdef\u001b[0m \u001b[0mget_all_HDF_files\u001b[0m\u001b[1;33m(\u001b[0m\u001b[0mdir_h5_filepath\u001b[0m\u001b[1;33m)\u001b[0m\u001b[1;33m:\u001b[0m\u001b[1;33m\u001b[0m\u001b[1;33m\u001b[0m\u001b[0m\n\u001b[1;32m---> 39\u001b[1;33m     \u001b[0mall_files_list\u001b[0m \u001b[1;33m=\u001b[0m \u001b[0mos\u001b[0m\u001b[1;33m.\u001b[0m\u001b[0mlistdir\u001b[0m\u001b[1;33m(\u001b[0m\u001b[0mdir_h5_filepath\u001b[0m\u001b[1;33m)\u001b[0m\u001b[1;33m\u001b[0m\u001b[1;33m\u001b[0m\u001b[0m\n\u001b[0m\u001b[0;32m     40\u001b[0m     \u001b[0mall_HDF_files\u001b[0m \u001b[1;33m=\u001b[0m \u001b[1;33m[\u001b[0m\u001b[1;33m]\u001b[0m\u001b[1;33m\u001b[0m\u001b[1;33m\u001b[0m\u001b[0m\n\u001b[0;32m     41\u001b[0m     \u001b[1;32mfor\u001b[0m \u001b[0mfile\u001b[0m \u001b[1;32min\u001b[0m \u001b[0mall_files_list\u001b[0m\u001b[1;33m:\u001b[0m\u001b[1;33m\u001b[0m\u001b[1;33m\u001b[0m\u001b[0m\n",
      "\u001b[1;31mFileNotFoundError\u001b[0m: [WinError 3] The system cannot find the path specified: '/Users/amansinghthakur/Jupyter/AwakeExp/gsoc_eval/Aman_Solution/H5Files/'"
     ]
    }
   ],
   "source": [
    "# Function 1 : Get All HDF Files\n",
    "%run CreateCSVIndexFile.ipynb\n",
    "\n",
    "# Variable Declaration\n",
    "\n",
    "#dir_h5_filepath = \"/Users/amansinghthakur/Jupyter/AwakeExp/gsoc_eval/Aman_Solution/H5Files/\"\n",
    "#dir_csv_filepath = \"/Users/amansinghthakur/Jupyter/AwakeExp/gsoc_eval/Aman_Solution/CSVFiles/\"\n",
    "\n",
    "dir_h5_filepath = \"C:\\\\Users\\\\aman.singh\\\\Other\\\\gsoc_eval-master\\\\Aman_Solution\\\\H5Files\\\\\"\n",
    "dir_csv_filepath = \"C:\\\\Users\\\\aman.singh\\\\Other\\\\gsoc_eval-master\\\\Aman_Solution\\\\CSVFiles\\\\\"\n",
    "\n",
    "csv_file_name = \"CSVPhase1_Part2.csv\"\n",
    "\n",
    "def test_get_all_HDF_files():\n",
    "    all_HDF_files = get_all_HDF_files(dir_h5_filepath)\n",
    "    print(all_HDF_files)\n",
    "\n",
    "def test_convert_unix_time_to_datetype(): \n",
    "    all_HDF_files = get_all_HDF_files(dir_h5_filepath)\n",
    "    for file in all_HDF_files:\n",
    "        utc_dt, cern_dt, fileptr1, fileptr2 = convert_unix_time_to_datetype(\n",
    "            file[:-3])\n",
    "        print(file)\n",
    "        print('UTC Time ', utc_dt)\n",
    "        print('Cern Time ', cern_dt)\n",
    "        print('File Pointer 1'+\" \"+str(fileptr1) +\n",
    "              \" \"+'File Pointer 2'+\" \"+str(fileptr2))\n",
    "\n",
    "def test_init_csv_file():\n",
    "    init_csv_file(dir_h5_filepath, dir_csv_filepath, csv_file_name)\n",
    "\n",
    "def read_csv():\n",
    "    filename = \"/Users/amansinghthakur/Jupyter/AwakeExp/gsoc_eval/Aman_Solution/CSVFiles/CSVPhase1_Part2.csv\"\n",
    "    fields = []\n",
    "    rows = []\n",
    "    similar_rows = []\n",
    "    with open(filename, 'r') as csvfile:\n",
    "        csvreader = csv.reader(csvfile)\n",
    "        for row in csvreader:\n",
    "            if row in rows :\n",
    "                if row not in similar_rows :\n",
    "                    similar_rows.append(row)\n",
    "            else :\n",
    "                rows.append(row)\n",
    "    print(similar_rows)\n",
    "  \n",
    "#create_central_CSV(dir_csv_filepath+csv_file_name, dir_csv_filepath+\"CSVPhase1-Central.csv\")\n",
    "#test_init_csv_file()\n",
    "init_thread_method(dir_h5_filepath, dir_csv_filepath, 2)"
   ]
  },
  {
   "cell_type": "code",
   "execution_count": null,
   "metadata": {},
   "outputs": [],
   "source": []
  },
  {
   "cell_type": "code",
   "execution_count": null,
   "metadata": {},
   "outputs": [],
   "source": []
  },
  {
   "cell_type": "code",
   "execution_count": null,
   "metadata": {},
   "outputs": [],
   "source": []
  }
 ],
 "metadata": {
  "kernelspec": {
   "display_name": "Python 3",
   "language": "python",
   "name": "python3"
  },
  "language_info": {
   "codemirror_mode": {
    "name": "ipython",
    "version": 3
   },
   "file_extension": ".py",
   "mimetype": "text/x-python",
   "name": "python",
   "nbconvert_exporter": "python",
   "pygments_lexer": "ipython3",
   "version": "3.7.1"
  },
  "toc": {
   "base_numbering": 1,
   "nav_menu": {},
   "number_sections": true,
   "sideBar": true,
   "skip_h1_title": false,
   "title_cell": "Table of Contents",
   "title_sidebar": "Contents",
   "toc_cell": false,
   "toc_position": {},
   "toc_section_display": true,
   "toc_window_display": false
  },
  "varInspector": {
   "cols": {
    "lenName": 16,
    "lenType": 16,
    "lenVar": 40
   },
   "kernels_config": {
    "python": {
     "delete_cmd_postfix": "",
     "delete_cmd_prefix": "del ",
     "library": "var_list.py",
     "varRefreshCmd": "print(var_dic_list())"
    },
    "r": {
     "delete_cmd_postfix": ") ",
     "delete_cmd_prefix": "rm(",
     "library": "var_list.r",
     "varRefreshCmd": "cat(var_dic_list()) "
    }
   },
   "types_to_exclude": [
    "module",
    "function",
    "builtin_function_or_method",
    "instance",
    "_Feature"
   ],
   "window_display": false
  }
 },
 "nbformat": 4,
 "nbformat_minor": 2
}
