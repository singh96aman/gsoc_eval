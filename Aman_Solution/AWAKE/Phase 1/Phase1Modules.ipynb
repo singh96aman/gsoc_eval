{
 "cells": [
  {
   "cell_type": "code",
   "execution_count": 6,
   "metadata": {
    "ExecuteTime": {
     "end_time": "2019-05-08T12:38:19.238628Z",
     "start_time": "2019-05-08T12:38:19.228754Z"
    }
   },
   "outputs": [],
   "source": [
    "'''\n",
    "Write Modules :\n",
    "\n",
    "1. Get all HDF files\n",
    "2. Getting the Unix timestamp of all H5 files and python datetime objects\n",
    "3. Write into CSV File\n",
    "Dataset Name, Parent Group Name, HDF File Name, Singleton Value, Size, Shape, Data type\n",
    "4. Open a HDF File and traverse and add to CSV\n",
    "5. Progress Bar\n",
    "6. Write Error Handling Module\n",
    "7. Caching Module\n",
    "8. Create a dict for a dataset\n",
    "9. Searching Modules\n",
    "10. Query Based Searching\n",
    "11. Searching Error Handling\n",
    "'''\n",
    "\n",
    "import os\n",
    "from datetime import datetime\n",
    "import pytz\n",
    "\n",
    "\n",
    "def get_all_HDF_files(filepath):\n",
    "    all_files_list = os.listdir(filepath)\n",
    "    all_HDF_files = []\n",
    "    for file in all_files_list:\n",
    "        if file[-3:] == \".h5\":\n",
    "            all_HDF_files.append(file)\n",
    "    return all_HDF_files\n",
    "\n",
    "\n",
    "def convert_unix_time_to_datetype(filename):\n",
    "    filename_array = filename.split(\"_\")\n",
    "    if len(str(filename_array[0])) == 19:\n",
    "        timestamp = float(filename_array[0])\n",
    "        utc_dt = datetime.utcfromtimestamp(timestamp // 1e9)\n",
    "        cern_tz = pytz.timezone('Europe/Zurich')\n",
    "        cern_dt = utc_dt.replace(tzinfo=pytz.utc).astimezone(cern_tz)\n",
    "        cern_dt = cern_tz.normalize(cern_dt)\n",
    "        return (utc_dt, cern_dt, filename_array[1], filename_array[2])\n",
    "\n",
    "\n",
    "def write_into_CSV(dir_name):"
   ]
  },
  {
   "cell_type": "code",
   "execution_count": null,
   "metadata": {},
   "outputs": [],
   "source": []
  }
 ],
 "metadata": {
  "kernelspec": {
   "display_name": "Python 3",
   "language": "python",
   "name": "python3"
  },
  "language_info": {
   "codemirror_mode": {
    "name": "ipython",
    "version": 3
   },
   "file_extension": ".py",
   "mimetype": "text/x-python",
   "name": "python",
   "nbconvert_exporter": "python",
   "pygments_lexer": "ipython3",
   "version": "3.6.4"
  },
  "toc": {
   "base_numbering": 1,
   "nav_menu": {},
   "number_sections": true,
   "sideBar": true,
   "skip_h1_title": false,
   "title_cell": "Table of Contents",
   "title_sidebar": "Contents",
   "toc_cell": false,
   "toc_position": {},
   "toc_section_display": true,
   "toc_window_display": false
  },
  "varInspector": {
   "cols": {
    "lenName": 16,
    "lenType": 16,
    "lenVar": 40
   },
   "kernels_config": {
    "python": {
     "delete_cmd_postfix": "",
     "delete_cmd_prefix": "del ",
     "library": "var_list.py",
     "varRefreshCmd": "print(var_dic_list())"
    },
    "r": {
     "delete_cmd_postfix": ") ",
     "delete_cmd_prefix": "rm(",
     "library": "var_list.r",
     "varRefreshCmd": "cat(var_dic_list()) "
    }
   },
   "types_to_exclude": [
    "module",
    "function",
    "builtin_function_or_method",
    "instance",
    "_Feature"
   ],
   "window_display": false
  }
 },
 "nbformat": 4,
 "nbformat_minor": 2
}
