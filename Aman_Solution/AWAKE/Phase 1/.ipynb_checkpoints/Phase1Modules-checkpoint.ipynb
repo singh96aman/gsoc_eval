{
 "cells": [
  {
   "cell_type": "code",
   "execution_count": 3,
   "metadata": {
    "ExecuteTime": {
     "end_time": "2019-05-08T12:24:35.026807Z",
     "start_time": "2019-05-08T12:24:35.022206Z"
    }
   },
   "outputs": [],
   "source": [
    "'''\n",
    "Write Modules :\n",
    "\n",
    "1. Get all HDF files\n",
    "2. Getting the Unix timestamp of all H5 files and converting it into Python datetype object with UTC and CERN local time.\n",
    "Dataset Name, Parent Group Name, HDF File Name, Singleton Value, Size, Shape, Data type\n",
    "3. Open a HDF File and traverse and add to CSV\n",
    "4. Progress Bar\n",
    "5. Write Error Handling Module\n",
    "6. Caching Module\n",
    "7. Create a dict for a dataset\n",
    "8. Searching Modules\n",
    "9. Query Based Searching\n",
    "10. Searching Error Handling\n",
    "'''\n",
    "\n",
    "import os\n",
    "\n",
    "\n",
    "def get_all_HDF_files(filepath):\n",
    "    return os.listdir(filepath)"
   ]
  },
  {
   "cell_type": "code",
   "execution_count": null,
   "metadata": {},
   "outputs": [],
   "source": []
  }
 ],
 "metadata": {
  "kernelspec": {
   "display_name": "Python 3",
   "language": "python",
   "name": "python3"
  },
  "language_info": {
   "codemirror_mode": {
    "name": "ipython",
    "version": 3
   },
   "file_extension": ".py",
   "mimetype": "text/x-python",
   "name": "python",
   "nbconvert_exporter": "python",
   "pygments_lexer": "ipython3",
   "version": "3.6.4"
  },
  "toc": {
   "base_numbering": 1,
   "nav_menu": {},
   "number_sections": true,
   "sideBar": true,
   "skip_h1_title": false,
   "title_cell": "Table of Contents",
   "title_sidebar": "Contents",
   "toc_cell": false,
   "toc_position": {},
   "toc_section_display": true,
   "toc_window_display": false
  },
  "varInspector": {
   "cols": {
    "lenName": 16,
    "lenType": 16,
    "lenVar": 40
   },
   "kernels_config": {
    "python": {
     "delete_cmd_postfix": "",
     "delete_cmd_prefix": "del ",
     "library": "var_list.py",
     "varRefreshCmd": "print(var_dic_list())"
    },
    "r": {
     "delete_cmd_postfix": ") ",
     "delete_cmd_prefix": "rm(",
     "library": "var_list.r",
     "varRefreshCmd": "cat(var_dic_list()) "
    }
   },
   "types_to_exclude": [
    "module",
    "function",
    "builtin_function_or_method",
    "instance",
    "_Feature"
   ],
   "window_display": false
  }
 },
 "nbformat": 4,
 "nbformat_minor": 2
}
