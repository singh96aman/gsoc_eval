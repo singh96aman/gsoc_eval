{
 "cells": [
  {
   "cell_type": "code",
   "execution_count": 26,
   "metadata": {
    "ExecuteTime": {
     "end_time": "2019-05-08T12:46:59.965341Z",
     "start_time": "2019-05-08T12:46:59.934005Z"
    }
   },
   "outputs": [
    {
     "name": "stdout",
     "output_type": "stream",
     "text": [
      "1541808518535000000_160_1.h5\n",
      "UTC Time  2018-11-10 00:08:38\n",
      "Cern Time  2018-11-10 01:08:38+01:00\n",
      "File Pointer 1 160 File Pointer 2 1\n",
      "1541831457735000000_161_1.h5\n",
      "UTC Time  2018-11-10 06:30:57\n",
      "Cern Time  2018-11-10 07:30:57+01:00\n",
      "File Pointer 1 161 File Pointer 2 1\n",
      "1541897545335000000_162_1.h5\n",
      "UTC Time  2018-11-11 00:52:25\n",
      "Cern Time  2018-11-11 01:52:25+01:00\n",
      "File Pointer 1 162 File Pointer 2 1\n",
      "1541902534935000000_163_1.h5\n",
      "UTC Time  2018-11-11 02:15:34\n",
      "Cern Time  2018-11-11 03:15:34+01:00\n",
      "File Pointer 1 163 File Pointer 2 1\n",
      "1541902635735000000_164_1.h5\n",
      "UTC Time  2018-11-11 02:17:15\n",
      "Cern Time  2018-11-11 03:17:15+01:00\n",
      "File Pointer 1 164 File Pointer 2 1\n",
      "1541902736535000000_165_1.h5\n",
      "UTC Time  2018-11-11 02:18:56\n",
      "Cern Time  2018-11-11 03:18:56+01:00\n",
      "File Pointer 1 165 File Pointer 2 1\n",
      "1541909641335000000_166_1.h5\n",
      "UTC Time  2018-11-11 04:14:01\n",
      "Cern Time  2018-11-11 05:14:01+01:00\n",
      "File Pointer 1 166 File Pointer 2 1\n",
      "1541917554135000000_167_1.h5\n",
      "UTC Time  2018-11-11 06:25:54\n",
      "Cern Time  2018-11-11 07:25:54+01:00\n",
      "File Pointer 1 167 File Pointer 2 1\n",
      "1541962108935000000_167_838.h5\n",
      "UTC Time  2018-11-11 18:48:28\n",
      "Cern Time  2018-11-11 19:48:28+01:00\n",
      "File Pointer 1 167 File Pointer 2 838\n",
      "1541974906935000000_168_1.h5\n",
      "UTC Time  2018-11-11 22:21:46\n",
      "Cern Time  2018-11-11 23:21:46+01:00\n",
      "File Pointer 1 168 File Pointer 2 1\n"
     ]
    }
   ],
   "source": [
    "# Function 1 : Get All HDF Files\n",
    "%run Phase1Modules.ipynb\n",
    "\n",
    "\n",
    "def test_module_1():\n",
    "    all_HDF_files = get_all_HDF_files(\n",
    "        \"/Users/amansinghthakur/Jupyter/AwakeExp/gsoc_eval/Aman_Solution/H5Files/\")\n",
    "\n",
    "\n",
    "def test_module_2(): \n",
    "    for file in all_HDF_files:\n",
    "        utc_dt, cern_dt, fileptr1, fileptr2 = convert_unix_time_to_datetype(\n",
    "            file[:-3])\n",
    "        print(file)\n",
    "        print('UTC Time ', utc_dt)\n",
    "        print('Cern Time ', cern_dt)\n",
    "        print('File Pointer 1'+\" \"+str(fileptr1) +\n",
    "              \" \"+'File Pointer 2'+\" \"+str(fileptr2))"
   ]
  },
  {
   "cell_type": "code",
   "execution_count": null,
   "metadata": {},
   "outputs": [],
   "source": []
  },
  {
   "cell_type": "code",
   "execution_count": null,
   "metadata": {},
   "outputs": [],
   "source": []
  }
 ],
 "metadata": {
  "kernelspec": {
   "display_name": "Python 3",
   "language": "python",
   "name": "python3"
  },
  "language_info": {
   "codemirror_mode": {
    "name": "ipython",
    "version": 3
   },
   "file_extension": ".py",
   "mimetype": "text/x-python",
   "name": "python",
   "nbconvert_exporter": "python",
   "pygments_lexer": "ipython3",
   "version": "3.6.4"
  },
  "toc": {
   "base_numbering": 1,
   "nav_menu": {},
   "number_sections": true,
   "sideBar": true,
   "skip_h1_title": false,
   "title_cell": "Table of Contents",
   "title_sidebar": "Contents",
   "toc_cell": false,
   "toc_position": {},
   "toc_section_display": true,
   "toc_window_display": false
  },
  "varInspector": {
   "cols": {
    "lenName": 16,
    "lenType": 16,
    "lenVar": 40
   },
   "kernels_config": {
    "python": {
     "delete_cmd_postfix": "",
     "delete_cmd_prefix": "del ",
     "library": "var_list.py",
     "varRefreshCmd": "print(var_dic_list())"
    },
    "r": {
     "delete_cmd_postfix": ") ",
     "delete_cmd_prefix": "rm(",
     "library": "var_list.r",
     "varRefreshCmd": "cat(var_dic_list()) "
    }
   },
   "types_to_exclude": [
    "module",
    "function",
    "builtin_function_or_method",
    "instance",
    "_Feature"
   ],
   "window_display": false
  }
 },
 "nbformat": 4,
 "nbformat_minor": 2
}
