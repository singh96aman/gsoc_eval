{
 "cells": [
  {
   "cell_type": "code",
   "execution_count": null,
   "metadata": {},
   "outputs": [],
   "source": []
  },
  {
   "cell_type": "code",
   "execution_count": 62,
   "metadata": {
    "ExecuteTime": {
     "end_time": "2019-05-16T19:43:52.228388Z",
     "start_time": "2019-05-16T19:43:49.398836Z"
    }
   },
   "outputs": [
    {
     "name": "stdout",
     "output_type": "stream",
     "text": [
      "['1541808518535000000_160_1.csv', '1541831457735000000_161_1.csv', '1541897545335000000_162_1.csv', '1541902534935000000_163_1.csv', '1541902635735000000_164_1.csv', '1541902736535000000_165_1.csv', '1541909641335000000_166_1.csv', '1541917554135000000_167_1.csv', '1541962108935000000_167_838.csv', '1541974906935000000_168_1.csv', 'a1.csv', 'a10.csv', 'a2.csv', 'a3.csv', 'a4.csv', 'a5.csv', 'a6.csv', 'a7.csv', 'a8.csv', 'a9.csv']\n"
     ]
    }
   ],
   "source": [
    "# Function 1 : Get All HDF Files\n",
    "%run CreateCSVIndexFile.ipynb\n",
    "\n",
    "# Variable Declaration\n",
    "\n",
    "dir_h5_filepath = \"/Users/amansinghthakur/Jupyter/AwakeExp/gsoc_eval/Aman_Solution/H5Files/\"\n",
    "dir_csv_filepath = \"/Users/amansinghthakur/Jupyter/AwakeExp/gsoc_eval/Aman_Solution/CSVFiles/\"\n",
    "\n",
    "#dir_h5_filepath = \"C:\\\\Users\\\\aman.singh\\\\Other\\\\gsoc_eval-master\\\\Aman_Solution\\\\H5Files\\\\\"\n",
    "#dir_csv_filepath = \"C:\\\\Users\\\\aman.singh\\\\Other\\\\gsoc_eval-master\\\\Aman_Solution\\\\CSVFiles\\\\\"\n",
    "\n",
    "csv_file_name = \"CSVPhase1_Part2.csv\"\n",
    "\n",
    "def test_get_all_HDF_files():\n",
    "    all_HDF_files = get_all_HDF_files(dir_h5_filepath)\n",
    "    print(all_HDF_files)\n",
    "\n",
    "def test_convert_unix_time_to_datetype(): \n",
    "    all_HDF_files = get_all_HDF_files(dir_h5_filepath)\n",
    "    for file in all_HDF_files:\n",
    "        utc_dt, cern_dt, fileptr1, fileptr2 = convert_unix_time_to_datetype(\n",
    "            file[:-3])\n",
    "        print(file)\n",
    "        print('UTC Time ', utc_dt)\n",
    "        print('Cern Time ', cern_dt)\n",
    "        print('File Pointer 1'+\" \"+str(fileptr1) +\n",
    "              \" \"+'File Pointer 2'+\" \"+str(fileptr2))\n",
    "\n",
    "def test_init_csv_file():\n",
    "    init_csv_file(dir_h5_filepath, dir_csv_filepath, csv_file_name)\n",
    "\n",
    "def read_csv():\n",
    "    filename = \"/Users/amansinghthakur/Jupyter/AwakeExp/gsoc_eval/Aman_Solution/CSVFiles/CSVPhase1_Part2.csv\"\n",
    "    fields = []\n",
    "    rows = []\n",
    "    similar_rows = []\n",
    "    with open(filename, 'r') as csvfile:\n",
    "        csvreader = csv.reader(csvfile)\n",
    "        for row in csvreader:\n",
    "            if row in rows :\n",
    "                if row not in similar_rows :\n",
    "                    similar_rows.append(row)\n",
    "            else :\n",
    "                rows.append(row)\n",
    "    print(similar_rows)\n",
    "  \n",
    "#init_process_method(dir_h5_filepath, dir_csv_filepath, 8)\n",
    "create_central_CSV(dir_csv_filepath)"
   ]
  },
  {
   "cell_type": "code",
   "execution_count": null,
   "metadata": {},
   "outputs": [],
   "source": []
  },
  {
   "cell_type": "code",
   "execution_count": null,
   "metadata": {},
   "outputs": [],
   "source": []
  }
 ],
 "metadata": {
  "kernelspec": {
   "display_name": "Python 3",
   "language": "python",
   "name": "python3"
  },
  "language_info": {
   "codemirror_mode": {
    "name": "ipython",
    "version": 3
   },
   "file_extension": ".py",
   "mimetype": "text/x-python",
   "name": "python",
   "nbconvert_exporter": "python",
   "pygments_lexer": "ipython3",
   "version": "3.6.6"
  },
  "toc": {
   "base_numbering": 1,
   "nav_menu": {},
   "number_sections": true,
   "sideBar": true,
   "skip_h1_title": false,
   "title_cell": "Table of Contents",
   "title_sidebar": "Contents",
   "toc_cell": false,
   "toc_position": {},
   "toc_section_display": true,
   "toc_window_display": false
  },
  "varInspector": {
   "cols": {
    "lenName": 16,
    "lenType": 16,
    "lenVar": 40
   },
   "kernels_config": {
    "python": {
     "delete_cmd_postfix": "",
     "delete_cmd_prefix": "del ",
     "library": "var_list.py",
     "varRefreshCmd": "print(var_dic_list())"
    },
    "r": {
     "delete_cmd_postfix": ") ",
     "delete_cmd_prefix": "rm(",
     "library": "var_list.r",
     "varRefreshCmd": "cat(var_dic_list()) "
    }
   },
   "types_to_exclude": [
    "module",
    "function",
    "builtin_function_or_method",
    "instance",
    "_Feature"
   ],
   "window_display": false
  }
 },
 "nbformat": 4,
 "nbformat_minor": 2
}
