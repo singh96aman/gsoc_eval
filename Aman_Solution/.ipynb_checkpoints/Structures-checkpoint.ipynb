{
 "cells": [
  {
   "cell_type": "code",
   "execution_count": 1,
   "metadata": {},
   "outputs": [
    {
     "ename": "TypeError",
     "evalue": "must be str, not int",
     "output_type": "error",
     "traceback": [
      "\u001b[0;31m---------------------------------------------------------------------------\u001b[0m",
      "\u001b[0;31mTypeError\u001b[0m                                 Traceback (most recent call last)",
      "\u001b[0;32m<ipython-input-1-c915c4df9c12>\u001b[0m in \u001b[0;36m<module>\u001b[0;34m()\u001b[0m\n\u001b[1;32m     52\u001b[0m \u001b[0mCSVMapping\u001b[0m \u001b[0;34m=\u001b[0m \u001b[0;34m[\u001b[0m\u001b[0;34m]\u001b[0m\u001b[0;34m\u001b[0m\u001b[0m\n\u001b[1;32m     53\u001b[0m \u001b[0mtraverse\u001b[0m\u001b[0;34m(\u001b[0m\u001b[0mfile\u001b[0m\u001b[0;34m)\u001b[0m\u001b[0;34m\u001b[0m\u001b[0m\n\u001b[0;32m---> 54\u001b[0;31m \u001b[0mprint\u001b[0m \u001b[0;34m(\u001b[0m\u001b[0;34m\"Unique KeySet for a Dataset in a group : \"\u001b[0m\u001b[0;34m+\u001b[0m\u001b[0mlen\u001b[0m\u001b[0;34m(\u001b[0m\u001b[0mMapping\u001b[0m\u001b[0;34m)\u001b[0m\u001b[0;34m)\u001b[0m\u001b[0;34m\u001b[0m\u001b[0m\n\u001b[0m\u001b[1;32m     55\u001b[0m \u001b[0;32mfor\u001b[0m \u001b[0mmap\u001b[0m \u001b[0;32min\u001b[0m \u001b[0mMapping\u001b[0m\u001b[0;34m.\u001b[0m\u001b[0mkeys\u001b[0m\u001b[0;34m(\u001b[0m\u001b[0;34m)\u001b[0m\u001b[0;34m:\u001b[0m\u001b[0;34m\u001b[0m\u001b[0m\n\u001b[1;32m     56\u001b[0m     \u001b[0mprint\u001b[0m \u001b[0;34m(\u001b[0m\u001b[0;34m\"Count : \"\u001b[0m\u001b[0;34m+\u001b[0m\u001b[0mstr\u001b[0m\u001b[0;34m(\u001b[0m\u001b[0mMapping\u001b[0m\u001b[0;34m[\u001b[0m\u001b[0mmap\u001b[0m\u001b[0;34m]\u001b[0m\u001b[0;34m)\u001b[0m\u001b[0;34m+\u001b[0m\u001b[0;34m\" ** Type :\"\u001b[0m\u001b[0;34m+\u001b[0m\u001b[0mmap\u001b[0m\u001b[0;34m)\u001b[0m\u001b[0;34m\u001b[0m\u001b[0m\n",
      "\u001b[0;31mTypeError\u001b[0m: must be str, not int"
     ]
    }
   ],
   "source": [
    "import os\n",
    "from datetime import datetime\n",
    "import pytz\n",
    "import h5py\n",
    "import csv\n",
    "import numpy as np\n",
    "from scipy.signal import medfilt\n",
    "import matplotlib.pyplot as plt\n",
    "\n",
    "Mapping = {}\n",
    "\n",
    "def traverse(file) :\n",
    "    if(isinstance(file, h5py.Group)) :\n",
    "        for sub in file.keys() :\n",
    "            if(isinstance(file[sub], h5py.Dataset)) :\n",
    "                get_dict(file)                       \n",
    "            elif (isinstance(file[sub], h5py.Group)) :\n",
    "                traverse(file[sub])\n",
    "\n",
    "def get_dict(file) :\n",
    "    value = {}\n",
    "    for sub in file.keys() :\n",
    "        if(isinstance(file[sub], h5py.Dataset)) :\n",
    "            if(file[sub].size != 0) :\n",
    "                key = file[sub].name.split(\"/\")\n",
    "                value.update({key[len(key)-1]: \"Value\"})\n",
    "    global Mapping\n",
    "    temp = str(value.keys())\n",
    "    if len(value) == 1 :\n",
    "        if \"singleton\" in Mapping.keys() :\n",
    "            Mapping[\"singleton\"] = Mapping[\"singleton\"]+1\n",
    "        else :\n",
    "            Mapping[\"singleton\"] = 1\n",
    "    else :\n",
    "        if temp in Mapping.keys():\n",
    "            Mapping[temp] = Mapping[temp]+1\n",
    "        else :\n",
    "            Mapping[temp] = 1\n",
    "                \n",
    "def get_data() :\n",
    "    dir_name = \"H5Files\"\n",
    "    file_list = get_all_filenames(dir_name)\n",
    "    for file in file_list :\n",
    "        if file[-3:] == \".h5\" :\n",
    "            file = h5py.File(dir_name+\"/\"+str(file), 'r')\n",
    "            return file\n",
    "\n",
    "def get_all_filenames(dir_name) :\n",
    "    return os.listdir(dir_name)\n",
    "\n",
    "file = get_data()\n",
    "CSVMapping = []\n",
    "traverse(file)\n",
    "print (\"Unique KeySet for a Dataset in a group : \"+str(len(Mapping)))\n",
    "for map in Mapping.keys():\n",
    "    print (\"Count : \"+str(Mapping[map])+\" ** Type :\"+map)\n",
    "            "
   ]
  },
  {
   "cell_type": "code",
   "execution_count": null,
   "metadata": {},
   "outputs": [],
   "source": []
  }
 ],
 "metadata": {
  "kernelspec": {
   "display_name": "Python 3",
   "language": "python",
   "name": "python3"
  },
  "language_info": {
   "codemirror_mode": {
    "name": "ipython",
    "version": 3
   },
   "file_extension": ".py",
   "mimetype": "text/x-python",
   "name": "python",
   "nbconvert_exporter": "python",
   "pygments_lexer": "ipython3",
   "version": "3.6.4"
  }
 },
 "nbformat": 4,
 "nbformat_minor": 2
}
